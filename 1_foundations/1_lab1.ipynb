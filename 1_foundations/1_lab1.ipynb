{
 "cells": [
  {
   "cell_type": "markdown",
   "metadata": {},
   "source": [
    "# Welcome to the start of your adventure in Agentic AI"
   ]
  },
  {
   "cell_type": "markdown",
   "metadata": {},
   "source": [
    "<table style=\"margin: 0; text-align: left; width:100%\">\n",
    "    <tr>\n",
    "        <td style=\"width: 150px; height: 150px; vertical-align: middle;\">\n",
    "            <img src=\"../assets/stop.png\" width=\"150\" height=\"150\" style=\"display: block;\" />\n",
    "        </td>\n",
    "        <td>\n",
    "            <h2 style=\"color:#ff7800;\">Are you ready for action??</h2>\n",
    "            <span style=\"color:#ff7800;\">Have you completed all the setup steps in the <a href=\"../setup/\">setup</a> folder?<br/>\n",
    "            Have you checked out the guides in the <a href=\"../guides/01_intro.ipynb\">guides</a> folder?<br/>\n",
    "            Well in that case, you're ready!!\n",
    "            </span>\n",
    "        </td>\n",
    "    </tr>\n",
    "</table>"
   ]
  },
  {
   "cell_type": "markdown",
   "metadata": {},
   "source": [
    "<table style=\"margin: 0; text-align: left; width:100%\">\n",
    "    <tr>\n",
    "        <td style=\"width: 150px; height: 150px; vertical-align: middle;\">\n",
    "            <img src=\"../assets/tools.png\" width=\"150\" height=\"150\" style=\"display: block;\" />\n",
    "        </td>\n",
    "        <td>\n",
    "            <h2 style=\"color:#00bfff;\">This code is a live resource - keep an eye out for my updates</h2>\n",
    "            <span style=\"color:#00bfff;\">I push updates regularly. As people ask questions or have problems, I add more examples and improve explanations. As a result, the code below might not be identical to the videos, as I've added more steps and better comments. Consider this like an interactive book that accompanies the lectures.<br/><br/>\n",
    "            I try to send emails regularly with important updates related to the course. You can find this in the 'Announcements' section of Udemy in the left sidebar. You can also choose to receive my emails via your Notification Settings in Udemy. I'm respectful of your inbox and always try to add value with my emails!\n",
    "            </span>\n",
    "        </td>\n",
    "    </tr>\n",
    "</table>"
   ]
  },
  {
   "cell_type": "markdown",
   "metadata": {},
   "source": [
    "### And please do remember to contact me if I can help\n",
    "\n",
    "And I love to connect: https://www.linkedin.com/in/eddonner/\n",
    "\n",
    "\n",
    "### New to Notebooks like this one? Head over to the guides folder!\n",
    "\n",
    "Just to check you've already added the Python and Jupyter extensions to Cursor, if not already installed:\n",
    "- Open extensions (View >> extensions)\n",
    "- Search for python, and when the results show, click on the ms-python one, and Install it if not already installed\n",
    "- Search for jupyter, and when the results show, click on the Microsoft one, and Install it if not already installed  \n",
    "Then View >> Explorer to bring back the File Explorer.\n",
    "\n",
    "And then:\n",
    "1. Click where it says \"Select Kernel\" near the top right, and select the option called `.venv (Python 3.12.9)` or similar, which should be the first choice or the most prominent choice. You may need to choose \"Python Environments\" first.\n",
    "2. Click in each \"cell\" below, starting with the cell immediately below this text, and press Shift+Enter to run\n",
    "3. Enjoy!\n",
    "\n",
    "After you click \"Select Kernel\", if there is no option like `.venv (Python 3.12.9)` then please do the following:  \n",
    "1. On Mac: From the Cursor menu, choose Settings >> VS Code Settings (NOTE: be sure to select `VSCode Settings` not `Cursor Settings`);  \n",
    "On Windows PC: From the File menu, choose Preferences >> VS Code Settings(NOTE: be sure to select `VSCode Settings` not `Cursor Settings`)  \n",
    "2. In the Settings search bar, type \"venv\"  \n",
    "3. In the field \"Path to folder with a list of Virtual Environments\" put the path to the project root, like C:\\Users\\username\\projects\\agents (on a Windows PC) or /Users/username/projects/agents (on Mac or Linux).  \n",
    "And then try again.\n",
    "\n",
    "Having problems with missing Python versions in that list? Have you ever used Anaconda before? It might be interferring. Quit Cursor, bring up a new command line, and make sure that your Anaconda environment is deactivated:    \n",
    "`conda deactivate`  \n",
    "And if you still have any problems with conda and python versions, it's possible that you will need to run this too:  \n",
    "`conda config --set auto_activate_base false`  \n",
    "and then from within the Agents directory, you should be able to run `uv python list` and see the Python 3.12 version."
   ]
  },
  {
   "cell_type": "code",
   "execution_count": 1,
   "metadata": {},
   "outputs": [],
   "source": [
    "# First let's do an import\n",
    "from dotenv import load_dotenv\n"
   ]
  },
  {
   "cell_type": "code",
   "execution_count": 2,
   "metadata": {},
   "outputs": [
    {
     "data": {
      "text/plain": [
       "True"
      ]
     },
     "execution_count": 2,
     "metadata": {},
     "output_type": "execute_result"
    }
   ],
   "source": [
    "# Next it's time to load the API keys into environment variables\n",
    "\n",
    "load_dotenv(override=True)"
   ]
  },
  {
   "cell_type": "code",
   "execution_count": 3,
   "metadata": {},
   "outputs": [
    {
     "name": "stdout",
     "output_type": "stream",
     "text": [
      "OpenAI API Key exists and begins sk-proj-\n"
     ]
    }
   ],
   "source": [
    "# Check the keys\n",
    "\n",
    "import os\n",
    "openai_api_key = os.getenv('OPENAI_API_KEY')\n",
    "\n",
    "if openai_api_key:\n",
    "    print(f\"OpenAI API Key exists and begins {openai_api_key[:8]}\")\n",
    "else:\n",
    "    print(\"OpenAI API Key not set - please head to the troubleshooting guide in the setup folder\")\n",
    "    \n"
   ]
  },
  {
   "cell_type": "code",
   "execution_count": 4,
   "metadata": {},
   "outputs": [],
   "source": [
    "# And now - the all important import statement\n",
    "# If you get an import error - head over to troubleshooting guide\n",
    "\n",
    "from openai import OpenAI"
   ]
  },
  {
   "cell_type": "code",
   "execution_count": 7,
   "metadata": {},
   "outputs": [],
   "source": [
    "# And now we'll create an instance of the OpenAI class\n",
    "# If you're not sure what it means to create an instance of a class - head over to the guides folder!\n",
    "# If you get a NameError - head over to the guides folder to learn about NameErrors\n",
    "\n",
    "openai = OpenAI()"
   ]
  },
  {
   "cell_type": "code",
   "execution_count": 8,
   "metadata": {},
   "outputs": [],
   "source": [
    "# Create a list of messages in the familiar OpenAI format\n",
    "\n",
    "messages = [{\"role\": \"user\", \"content\": \"What is 2+2?\"}]"
   ]
  },
  {
   "cell_type": "code",
   "execution_count": 9,
   "metadata": {},
   "outputs": [
    {
     "name": "stdout",
     "output_type": "stream",
     "text": [
      "2 + 2 equals 4.\n"
     ]
    }
   ],
   "source": [
    "# And now call it! Any problems, head to the troubleshooting guide\n",
    "# This uses GPT 4.1 nano, the incredibly cheap model\n",
    "\n",
    "response = openai.chat.completions.create(\n",
    "    model=\"gpt-4o-mini\",\n",
    "    messages=messages,\n",
    ")\n",
    "\n",
    "print(response.choices[0].message.content)\n"
   ]
  },
  {
   "cell_type": "code",
   "execution_count": 10,
   "metadata": {},
   "outputs": [],
   "source": [
    "# And now - let's ask for a question:\n",
    "\n",
    "question = \"Please propose a hard, challenging question to assess someone's IQ. Respond only with the question.\"\n",
    "messages = [{\"role\": \"user\", \"content\": question}]\n"
   ]
  },
  {
   "cell_type": "code",
   "execution_count": 11,
   "metadata": {},
   "outputs": [
    {
     "name": "stdout",
     "output_type": "stream",
     "text": [
      "If five machines take five minutes to make five widgets, how long would 100 machines take to make 100 widgets?\n"
     ]
    }
   ],
   "source": [
    "# ask it - this uses GPT 4.1 mini, still cheap but more powerful than nano\n",
    "\n",
    "response = openai.chat.completions.create(\n",
    "    model=\"gpt-4.1-mini\",\n",
    "    messages=messages\n",
    ")\n",
    "\n",
    "question = response.choices[0].message.content\n",
    "\n",
    "print(question)\n"
   ]
  },
  {
   "cell_type": "code",
   "execution_count": 14,
   "metadata": {},
   "outputs": [],
   "source": [
    "# form a new messages list\n",
    "messages = [{\"role\": \"user\", \"content\": question}]\n"
   ]
  },
  {
   "cell_type": "code",
   "execution_count": 13,
   "metadata": {},
   "outputs": [
    {
     "name": "stdout",
     "output_type": "stream",
     "text": [
      "Let's analyze the problem step-by-step:\n",
      "\n",
      "**Given:**\n",
      "- 5 machines take 5 minutes to make 5 widgets.\n",
      "\n",
      "**Question:**\n",
      "- How long would 100 machines take to make 100 widgets?\n",
      "\n",
      "---\n",
      "\n",
      "### Step 1: Find the rate of widget production per machine\n",
      "\n",
      "If 5 machines make 5 widgets in 5 minutes, then:\n",
      "\n",
      "- Total widgets per machine in 5 minutes = \\( \\frac{5 \\text{ widgets}}{5 \\text{ machines}} = 1 \\) widget per machine in 5 minutes.\n",
      "\n",
      "So, each machine takes 5 minutes to make 1 widget.\n",
      "\n",
      "---\n",
      "\n",
      "### Step 2: Use this rate for 100 machines\n",
      "\n",
      "Since each machine makes 1 widget in 5 minutes:\n",
      "\n",
      "- 100 machines working simultaneously can make 100 widgets in the same 5 minutes.\n",
      "\n",
      "---\n",
      "\n",
      "### **Answer:**\n",
      "\n",
      "**100 machines will take 5 minutes to make 100 widgets.**\n"
     ]
    }
   ],
   "source": [
    "# Ask it again\n",
    "\n",
    "response = openai.chat.completions.create(\n",
    "    model=\"gpt-4.1-mini\",\n",
    "    messages=messages\n",
    ")\n",
    "\n",
    "answer = response.choices[0].message.content\n",
    "print(answer)\n"
   ]
  },
  {
   "cell_type": "code",
   "execution_count": 15,
   "metadata": {},
   "outputs": [
    {
     "data": {
      "text/markdown": [
       "Let's analyze the problem step-by-step:\n",
       "\n",
       "**Given:**\n",
       "- 5 machines take 5 minutes to make 5 widgets.\n",
       "\n",
       "**Question:**\n",
       "- How long would 100 machines take to make 100 widgets?\n",
       "\n",
       "---\n",
       "\n",
       "### Step 1: Find the rate of widget production per machine\n",
       "\n",
       "If 5 machines make 5 widgets in 5 minutes, then:\n",
       "\n",
       "- Total widgets per machine in 5 minutes = \\( \\frac{5 \\text{ widgets}}{5 \\text{ machines}} = 1 \\) widget per machine in 5 minutes.\n",
       "\n",
       "So, each machine takes 5 minutes to make 1 widget.\n",
       "\n",
       "---\n",
       "\n",
       "### Step 2: Use this rate for 100 machines\n",
       "\n",
       "Since each machine makes 1 widget in 5 minutes:\n",
       "\n",
       "- 100 machines working simultaneously can make 100 widgets in the same 5 minutes.\n",
       "\n",
       "---\n",
       "\n",
       "### **Answer:**\n",
       "\n",
       "**100 machines will take 5 minutes to make 100 widgets.**"
      ],
      "text/plain": [
       "<IPython.core.display.Markdown object>"
      ]
     },
     "metadata": {},
     "output_type": "display_data"
    }
   ],
   "source": [
    "from IPython.display import Markdown, display\n",
    "\n",
    "display(Markdown(answer))\n",
    "\n"
   ]
  },
  {
   "cell_type": "markdown",
   "metadata": {},
   "source": [
    "# Congratulations!\n",
    "\n",
    "That was a small, simple step in the direction of Agentic AI, with your new environment!\n",
    "\n",
    "Next time things get more interesting..."
   ]
  },
  {
   "cell_type": "markdown",
   "metadata": {},
   "source": [
    "<table style=\"margin: 0; text-align: left; width:100%\">\n",
    "    <tr>\n",
    "        <td style=\"width: 150px; height: 150px; vertical-align: middle;\">\n",
    "            <img src=\"../assets/exercise.png\" width=\"150\" height=\"150\" style=\"display: block;\" />\n",
    "        </td>\n",
    "        <td>\n",
    "            <h2 style=\"color:#ff7800;\">Exercise</h2>\n",
    "            <span style=\"color:#ff7800;\">Now try this commercial application:<br/>\n",
    "            First ask the LLM to pick a business area that might be worth exploring for an Agentic AI opportunity.<br/>\n",
    "            Then ask the LLM to present a pain-point in that industry - something challenging that might be ripe for an Agentic solution.<br/>\n",
    "            Finally have 3 third LLM call propose the Agentic AI solution.\n",
    "            </span>\n",
    "        </td>\n",
    "    </tr>\n",
    "</table>"
   ]
  },
  {
   "cell_type": "code",
   "execution_count": 20,
   "metadata": {},
   "outputs": [
    {
     "name": "stdout",
     "output_type": "stream",
     "text": [
      "The business idea is:  Sustainable packaging solutions.\n",
      "The pain-point is:  High production costs associated with sustainable materials compared to conventional packaging.\n"
     ]
    },
    {
     "data": {
      "text/markdown": [
       "# Agentic AI Solution for High Production Costs in Sustainable Packaging\n",
       "\n",
       "## Solution: AI-Driven Material Optimization Platform\n",
       "\n",
       "### Overview\n",
       "Develop an AI-driven platform that optimizes the selection and design of sustainable materials for packaging, aiming to reduce production costs while maintaining eco-friendliness.\n",
       "\n",
       "### Key Features\n",
       "\n",
       "1. **Material Database**\n",
       "   - An extensive database of sustainable materials with cost comparisons against conventional packaging.\n",
       "   - Continuous updates from suppliers to reflect real-time pricing and availability.\n",
       "\n",
       "2. **Cost Prediction Algorithm**\n",
       "   - Machine learning models that predict cost reduction opportunities based on current market trends and material properties.\n",
       "   - AI analyzes historical data to estimate savings from bulk purchasing and alternative material sourcing.\n",
       "\n",
       "3. **Design Optimization Tool**\n",
       "   - An AI-powered tool that helps in designing packaging that minimizes material usage without compromising quality.\n",
       "   - Suggestions for eco-friendly design adaptations that leverage cheaper, sustainable alternatives.\n",
       "\n",
       "4. **Supplier Matching**\n",
       "   - Connects businesses with low-cost, high-quality sustainable material suppliers based on geographical and logistical parameters.\n",
       "   - Facilitates partnerships that may offer discounts for bulk orders or long-term contracts.\n",
       "\n",
       "5. **Simulations and Impact Analysis**\n",
       "   - Run simulations to evaluate the cost-effectiveness of different material choices over the product lifecycle.\n",
       "   - Impact analysis on carbon footprint and sustainability metrics, providing an additional value proposition to potential clients.\n",
       "\n",
       "### Implementation Plan\n",
       "\n",
       "1. **Prototype Development** \n",
       "   - Build a minimum viable product (MVP) focusing on core features: material database and cost prediction.\n",
       "\n",
       "2. **Pilot Program**\n",
       "   - Collaborate with a select group of eco-conscious businesses to test the platform and gather feedback.\n",
       "\n",
       "3. **Iterative Improvement**\n",
       "   - Continuously refine the platform based on user experience and emerging sustainable materials trends.\n",
       "\n",
       "4. **Launch Full Version**\n",
       "   - Roll out the complete platform with marketing efforts targeting companies seeking affordable sustainable packaging solutions.\n",
       "\n",
       "### Benefits\n",
       "- Reduces the financial burden of transitioning to sustainable packaging.\n",
       "- Increases market competitiveness for businesses adopting green practices.\n",
       "- Provides a comprehensive solution that simplifies the process of finding and utilizing sustainable materials."
      ],
      "text/plain": [
       "<IPython.core.display.Markdown object>"
      ]
     },
     "metadata": {},
     "output_type": "display_data"
    }
   ],
   "source": [
    "from IPython.display import display, Markdown\n",
    "\n",
    "# First create the messages:\n",
    "\n",
    "messages = [{\"role\": \"user\", \"content\": \"You are a helpful assistant that find popular business ideas in the market. Please find 3 business idea and select the most valuable one. Only respond with the business idea and nothing else.\"}]\n",
    "\n",
    "# Then make the first call:\n",
    "\n",
    "response = openai.chat.completions.create(\n",
    "    model=\"gpt-4o-mini\",\n",
    "    messages=messages,\n",
    ")\n",
    "\n",
    "# Then read the business idea:\n",
    "\n",
    "business_idea = response.choices[0].message.content\n",
    "\n",
    "# And repeat!\n",
    "\n",
    "messages = [{\"role\": \"user\", \"content\": f\"You are a helpful assistant that finds pain-point's in {business_idea}. Pick the most valuable one. Only respond with the most valuable pain-point and nothing else.\"}]\n",
    "\n",
    "response = openai.chat.completions.create(\n",
    "    model=\"gpt-4o-mini\",\n",
    "    messages=messages,\n",
    ")\n",
    "\n",
    "pain_point = response.choices[0].message.content\n",
    "\n",
    "messages.append({\"role\": \"user\", \"content\": f\"You are a helpful assistant that finds a Agentic AI Solution for a given pain-point of a business idea. Please respond with the best solution and present it in a way that is easy to understand and use for an Agentic AI opportunity. Only respond with the solution and nothing else. Here is the pain-point: {pain_point} and the business idea: {business_idea}. The solution presentation needs to be in markdown format.\"})\n",
    "\n",
    "response = openai.chat.completions.create(\n",
    "    model=\"gpt-4o-mini\",\n",
    "    messages=messages,\n",
    ")\n",
    "\n",
    "solution = response.choices[0].message.content\n",
    "\n",
    "print(\"The business idea is: \", business_idea)\n",
    "print(\"The pain-point is: \", pain_point)\n",
    "display(Markdown(solution))\n"
   ]
  },
  {
   "cell_type": "markdown",
   "metadata": {},
   "source": []
  }
 ],
 "metadata": {
  "kernelspec": {
   "display_name": ".venv",
   "language": "python",
   "name": "python3"
  },
  "language_info": {
   "codemirror_mode": {
    "name": "ipython",
    "version": 3
   },
   "file_extension": ".py",
   "mimetype": "text/x-python",
   "name": "python",
   "nbconvert_exporter": "python",
   "pygments_lexer": "ipython3",
   "version": "3.12.7"
  }
 },
 "nbformat": 4,
 "nbformat_minor": 2
}
